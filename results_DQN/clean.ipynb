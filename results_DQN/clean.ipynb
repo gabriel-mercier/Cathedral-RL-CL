{
 "cells": [
  {
   "cell_type": "code",
   "execution_count": 2,
   "metadata": {},
   "outputs": [
    {
     "name": "stdout",
     "output_type": "stream",
     "text": [
      "Renommé: True_False_episodes:500_buffer:1000_prioritized:True_batch_size:64_gamma:0.99_controlled:player_1_target_update:20_opponent_freq:1_eps0.3to0.1with200_eps_greedy.png -> True_False_episodes500_buffer1000_prioritizedTrue_batch_size64_gamma0.99_controlledplayer_1_target_update20_opponent_freq1_eps0.3to0.1with200_eps_greedy.png\n",
      "Renommé: False_False_episodes:1000_buffer:3000_prioritized:True_batch_size:64_gamma:0.95_target_update:20_opponent_freq:1_treshold_penalize:0_penalize_value:10_eps0.3to0.1with200_boltzmann.png -> False_False_episodes1000_buffer3000_prioritizedTrue_batch_size64_gamma0.95_target_update20_opponent_freq1_treshold_penalize0_penalize_value10_eps0.3to0.1with200_boltzmann.png\n",
      "Renommé: False_False_episodes:5000_buffer:10000_prioritized:True_batch_size:64_gamma:0.95_target_update:20_opponent_freq:1_treshold_penalize:0_penalize_value:10_eps0.3to0.1with200_boltzmann.png -> False_False_episodes5000_buffer10000_prioritizedTrue_batch_size64_gamma0.95_target_update20_opponent_freq1_treshold_penalize0_penalize_value10_eps0.3to0.1with200_boltzmann.png\n",
      "Renommé: True_False_episodes:200_buffer:1000_prioritized:True_batch_size:64_gamma:0.99_target_update:20_opponent_freq:1_eps0.3to0.1with200_eps_greedy.png -> True_False_episodes200_buffer1000_prioritizedTrue_batch_size64_gamma0.99_target_update20_opponent_freq1_eps0.3to0.1with200_eps_greedy.png\n",
      "Renommé: True_False_episodes:500_buffer:1000_prioritized:False_batch_size:64_gamma:0.95_target_update:20_opponent_freq:1_eps0.3to0.1with200_eps_greedy.png -> True_False_episodes500_buffer1000_prioritizedFalse_batch_size64_gamma0.95_target_update20_opponent_freq1_eps0.3to0.1with200_eps_greedy.png\n",
      "Renommé: True_True_episodes:300_buffer:3000_prioritized:True_batch_size:64_gamma:0.95_target_update:20_opponent_freq:1_treshold_penalize0_eps0.3to0.1with200_boltzmann.png -> True_True_episodes300_buffer3000_prioritizedTrue_batch_size64_gamma0.95_target_update20_opponent_freq1_treshold_penalize0_eps0.3to0.1with200_boltzmann.png\n",
      "Renommé: True_True_episodes:400_buffer:1000_prioritized:True_batch_size:64_gamma:0.95_target_update:20_opponent_freq:1_treshold_penalize:0_penalize_value:10_eps0.3to0.1with200_boltzmann.png -> True_True_episodes400_buffer1000_prioritizedTrue_batch_size64_gamma0.95_target_update20_opponent_freq1_treshold_penalize0_penalize_value10_eps0.3to0.1with200_boltzmann.png\n",
      "Renommé: True_True_episodes:500_buffer:1000_prioritized:False_batch_size:64_gamma:0.95_target_update:20_opponent_freq:1_eps0.3to0.1with200_eps_greedy.png -> True_True_episodes500_buffer1000_prioritizedFalse_batch_size64_gamma0.95_target_update20_opponent_freq1_eps0.3to0.1with200_eps_greedy.png\n",
      "Renommé: True_True_episodes:700_buffer:3000_prioritized:True_batch_size:64_gamma:0.95_target_update:20_opponent_freq:1_treshold_penalize:0_penalize_value:10_eps0.3to0.1with200_boltzmann.png -> True_True_episodes700_buffer3000_prioritizedTrue_batch_size64_gamma0.95_target_update20_opponent_freq1_treshold_penalize0_penalize_value10_eps0.3to0.1with200_boltzmann.png\n",
      "Renommé: True_True_episodes:2200_buffer:3000_prioritized:True_batch_size:64_gamma:0.95_target_update:20_opponent_freq:1_treshold_penalize:1500_penalize_value:10_eps0.3to0.1with200_boltzmann.png -> True_True_episodes2200_buffer3000_prioritizedTrue_batch_size64_gamma0.95_target_update20_opponent_freq1_treshold_penalize1500_penalize_value10_eps0.3to0.1with200_boltzmann.png\n",
      "Renommé: True_True_episodes:2200_buffer:3000_prioritized:True_batch_size:64_gamma:0.95_target_update:20_opponent_freq:1_treshold_penalize1500_eps0.3to0.1with200_boltzmann.png -> True_True_episodes2200_buffer3000_prioritizedTrue_batch_size64_gamma0.95_target_update20_opponent_freq1_treshold_penalize1500_eps0.3to0.1with200_boltzmann.png\n",
      "Renommé: True_True_model_DQN_episodes:400_buffer:1000_prioritized:True_batch_size:64_gamma:0.95_target_update:20_opponent_freq:1_treshold_penalize:0_penalize_value:10_eps0.3to0.1with200_boltzmann.png -> True_True_model_DQN_episodes400_buffer1000_prioritizedTrue_batch_size64_gamma0.95_target_update20_opponent_freq1_treshold_penalize0_penalize_value10_eps0.3to0.1with200_boltzmann.png\n"
     ]
    }
   ],
   "source": [
    "import os\n",
    "\n",
    "# Récupère le chemin du dossier contenant le script\n",
    "dossier = \"/users/eleves-b/2022/gabriel.mercier/Cathedral-RL-CL/results_DQN\"\n",
    "\n",
    "# Extensions d'images à considérer\n",
    "extensions = ['.png', '.jpg', '.jpeg', '.gif', '.bmp', '.tiff']\n",
    "\n",
    "# Parcours des fichiers dans le dossier\n",
    "for nom_fichier in os.listdir(dossier):\n",
    "    # Vérifie que le fichier a une extension d'image (en ignorant la casse)\n",
    "    if any(nom_fichier.lower().endswith(ext) for ext in extensions):\n",
    "        if ':' in nom_fichier:\n",
    "            # Création du nouveau nom en enlevant les deux-points\n",
    "            nouveau_nom = nom_fichier.replace(\":\", \"\")\n",
    "            ancien_chemin = os.path.join(dossier, nom_fichier)\n",
    "            nouveau_chemin = os.path.join(dossier, nouveau_nom)\n",
    "            \n",
    "            # Renommage du fichier\n",
    "            os.rename(ancien_chemin, nouveau_chemin)\n",
    "            print(f\"Renommé: {nom_fichier} -> {nouveau_nom}\")\n"
   ]
  }
 ],
 "metadata": {
  "kernelspec": {
   "display_name": "RLenv",
   "language": "python",
   "name": "python3"
  },
  "language_info": {
   "codemirror_mode": {
    "name": "ipython",
    "version": 3
   },
   "file_extension": ".py",
   "mimetype": "text/x-python",
   "name": "python",
   "nbconvert_exporter": "python",
   "pygments_lexer": "ipython3",
   "version": "3.12.9"
  }
 },
 "nbformat": 4,
 "nbformat_minor": 2
}
