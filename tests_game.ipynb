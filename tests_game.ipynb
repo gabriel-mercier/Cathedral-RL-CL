{
 "cells": [
  {
   "cell_type": "code",
   "execution_count": null,
   "metadata": {},
   "outputs": [],
   "source": [
    "\n",
    "from cathedral_rl import cathedral_v0  \n",
    "import random\n",
    "import numpy as np\n",
    "import torch\n",
    "import torch.nn as nn\n",
    "import torch.optim as optim\n",
    "from collections import deque\n",
    "import matplotlib.pyplot as plt\n",
    "from tqdm import tqdm \n",
    "import torch.nn.functional as F\n",
    "import math\n",
    "import copy\n",
    "from cathedral_rl.game.board import Board \n",
    "\n"
   ]
  },
  {
   "cell_type": "code",
   "execution_count": null,
   "metadata": {},
   "outputs": [],
   "source": [
    "env = cathedral_v0.env(board_size=8, render_mode=\"text\", per_move_rewards=False, final_reward_score_difference=False)\n",
    "\n",
    "env.reset()\n",
    "count = 0\n",
    "print('=============================================')\n",
    "while env.agents:\n",
    "    agent = env.agent_selection\n",
    "    \n",
    "    observation = env.observe(agent)\n",
    "    \n",
    "    # obs = observation[\"observation\"]\n",
    "    # for i in range(obs.shape[2]):\n",
    "    #     print(f\"Canal {i+1} :\")\n",
    "    #     print(obs[:, :, i])\n",
    "    #     print(\"\\n\")\n",
    "    \n",
    "\n",
    "    legal_moves = [i for i, valid in enumerate(observation[\"action_mask\"]) if valid]\n",
    "    # print(f'legale move {len(legal_moves)}')\n",
    "    # print(f\"{agent}. Actions légales : {legal_moves}\")\n",
    "    \n",
    "    action = random.choice(legal_moves)\n",
    "    # print(f\"{agent} joue l'action {action}.\")\n",
    "    \n",
    "    env.step(action)\n",
    "    \n",
    "    # print(\"==RENDER==\")\n",
    "    # env.render()\n",
    "    \n",
    "    print(f'rewards : {env.rewards}')\n",
    "    print(f'cumulative reward : {env._cumulative_rewards}')\n",
    "    print('=============================================')\n",
    "    count += 1\n",
    "\n",
    "print(\"La partie est terminée.\")\n",
    "print(count)\n",
    "env.close()\n"
   ]
  }
 ],
 "metadata": {
  "kernelspec": {
   "display_name": "RLenv",
   "language": "python",
   "name": "python3"
  },
  "language_info": {
   "name": "python",
   "version": "3.12.9"
  }
 },
 "nbformat": 4,
 "nbformat_minor": 2
}
